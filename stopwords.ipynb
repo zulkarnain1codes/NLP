{
 "cells": [
  {
   "cell_type": "code",
   "execution_count": 2,
   "id": "95adf7c1-5e10-4b35-84e5-8f0902c96acf",
   "metadata": {},
   "outputs": [],
   "source": [
    "from nltk.corpus import stopwords"
   ]
  },
  {
   "cell_type": "code",
   "execution_count": 3,
   "id": "26e648b5-9b1f-49e0-b181-c020fcbfca49",
   "metadata": {},
   "outputs": [
    {
     "name": "stderr",
     "output_type": "stream",
     "text": [
      "[nltk_data] Downloading package stopwords to\n",
      "[nltk_data]     C:\\Users\\zulka\\AppData\\Roaming\\nltk_data...\n",
      "[nltk_data]   Unzipping corpora\\stopwords.zip.\n"
     ]
    },
    {
     "data": {
      "text/plain": [
       "True"
      ]
     },
     "execution_count": 3,
     "metadata": {},
     "output_type": "execute_result"
    }
   ],
   "source": [
    "nltk.download(\"stopwords\")"
   ]
  },
  {
   "cell_type": "code",
   "execution_count": 4,
   "id": "d7631cca-f6bd-4539-94ec-9aa0c32fddf7",
   "metadata": {},
   "outputs": [],
   "source": [
    "stop_words = stopwords.words(\"english\")"
   ]
  },
  {
   "cell_type": "code",
   "execution_count": 7,
   "id": "c6383348-caaa-4c99-9a5d-4e3e993a3430",
   "metadata": {},
   "outputs": [
    {
     "name": "stdout",
     "output_type": "stream",
     "text": [
      "['I', 'reached', 'out', 'to', 'support', 'and', 'got', 'a', 'helpful', 'response', 'within', 'minutes', '!', '!', '!', 'Very', '#', 'impressed']\n"
     ]
    }
   ],
   "source": [
    "from nltk.tokenize import word_tokenize \n",
    "text = \"I reached out to support and got a helpful response within minutes!!! Very #impressed\"\n",
    "\n",
    "tokens = word_tokenize(text)\n",
    "print(tokens)\n"
   ]
  },
  {
   "cell_type": "code",
   "execution_count": 16,
   "id": "0e0327e8-e51a-4995-880b-2e2069a438d4",
   "metadata": {},
   "outputs": [
    {
     "name": "stdout",
     "output_type": "stream",
     "text": [
      "['reached', 'support', 'got', 'helpful', 'response', 'within', 'minutes', '!', '!', '!', '#', 'impressed']\n",
      "['reached', 'support', 'got', 'helpful', 'response', 'within', 'minutes', 'impressed']\n"
     ]
    }
   ],
   "source": [
    "import string\n",
    "\n",
    "clean_tokens = [word for word in tokens if word.lower()  not in stop_words ]\n",
    "final_tokens = [word for word in clean_tokens if word.lower() not in string.punctuation]\n",
    "print(clean_tokens)\n",
    "print(final_tokens)"
   ]
  },
  {
   "cell_type": "code",
   "execution_count": null,
   "id": "3fea258f-fe54-4515-8d70-cb747fb6dd93",
   "metadata": {},
   "outputs": [],
   "source": []
  }
 ],
 "metadata": {
  "kernelspec": {
   "display_name": "Python 3 (ipykernel)",
   "language": "python",
   "name": "python3"
  },
  "language_info": {
   "codemirror_mode": {
    "name": "ipython",
    "version": 3
   },
   "file_extension": ".py",
   "mimetype": "text/x-python",
   "name": "python",
   "nbconvert_exporter": "python",
   "pygments_lexer": "ipython3",
   "version": "3.13.2"
  }
 },
 "nbformat": 4,
 "nbformat_minor": 5
}
