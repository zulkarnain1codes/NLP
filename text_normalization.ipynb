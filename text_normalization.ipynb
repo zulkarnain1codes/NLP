{
 "cells": [
  {
   "cell_type": "markdown",
   "id": "d33577b6-8e04-43d0-af27-d8a45241d5c6",
   "metadata": {},
   "source": [
    "LOWER CASING"
   ]
  },
  {
   "cell_type": "code",
   "execution_count": 5,
   "id": "92afdd5b-5647-4cdc-8ab8-d8c586e72643",
   "metadata": {},
   "outputs": [
    {
     "name": "stdout",
     "output_type": "stream",
     "text": [
      "['running', 'organization', 'bats', 'reading', 'us']\n"
     ]
    }
   ],
   "source": [
    "tokens = [\"Running\",\"Organization\",\"Bats\",\"Reading\",\"US\"]\n",
    "# here the word US means the country not the collective which can cause a misunderstanding so need to be careful\n",
    "lowered = [word.lower() for word in tokens]\n",
    "print(lowered)"
   ]
  },
  {
   "cell_type": "markdown",
   "id": "37376d3f-e312-4236-9183-542c9cccd1bf",
   "metadata": {},
   "source": [
    "#STEMMING"
   ]
  },
  {
   "cell_type": "code",
   "execution_count": 1,
   "id": "648da9a8-84d8-4aa8-aada-4c1962cd6140",
   "metadata": {},
   "outputs": [
    {
     "name": "stdout",
     "output_type": "stream",
     "text": [
      "['run', 'organ', 'bat', 'read']\n"
     ]
    }
   ],
   "source": [
    "from nltk.stem import PorterStemmer\n",
    "stemmer =  PorterStemmer()\n",
    "tokens = [\"running\",\"organization\",\"bats\",\"reading\"]\n",
    "stemmed = [stemmer.stem(word) for word in tokens]\n",
    "print(stemmed)"
   ]
  },
  {
   "cell_type": "markdown",
   "id": "b45a5757-a9dd-4d4c-8117-ef2ec0487bb9",
   "metadata": {},
   "source": [
    "LEMMETIZATION\n"
   ]
  },
  {
   "cell_type": "code",
   "execution_count": 9,
   "id": "9dfd1240-3631-4749-b42c-ea515f4fa053",
   "metadata": {},
   "outputs": [
    {
     "name": "stdout",
     "output_type": "stream",
     "text": [
      "['running', 'organization', 'bat', 'reading']\n"
     ]
    },
    {
     "name": "stderr",
     "output_type": "stream",
     "text": [
      "[nltk_data] Downloading package wordnet to\n",
      "[nltk_data]     C:\\Users\\zulka\\AppData\\Roaming\\nltk_data...\n",
      "[nltk_data]   Package wordnet is already up-to-date!\n"
     ]
    }
   ],
   "source": [
    "import nltk\n",
    "from nltk.stem import WordNetLemmatizer\n",
    "nltk.download(\"wordnet\")\n",
    "\n"
   ]
  },
  {
   "cell_type": "code",
   "execution_count": 10,
   "id": "5d23c6a9-1395-43b1-b876-5d8f291e234e",
   "metadata": {},
   "outputs": [
    {
     "name": "stdout",
     "output_type": "stream",
     "text": [
      "['running', 'organization', 'bat', 'reading']\n"
     ]
    }
   ],
   "source": [
    "lemmatizer = WordNetLemmatizer()\n",
    "tokens = [\"running\",\"organizations\",\"bats\",\"reading\"]\n",
    "lemmatized = [lemmatizer.lemmatize(word) for word in tokens]\n",
    "print(lemmatized)"
   ]
  },
  {
   "cell_type": "code",
   "execution_count": null,
   "id": "f1c85524-1e54-419c-8c9d-6c8848f1d244",
   "metadata": {},
   "outputs": [],
   "source": []
  }
 ],
 "metadata": {
  "kernelspec": {
   "display_name": "Python 3 (ipykernel)",
   "language": "python",
   "name": "python3"
  },
  "language_info": {
   "codemirror_mode": {
    "name": "ipython",
    "version": 3
   },
   "file_extension": ".py",
   "mimetype": "text/x-python",
   "name": "python",
   "nbconvert_exporter": "python",
   "pygments_lexer": "ipython3",
   "version": "3.13.2"
  }
 },
 "nbformat": 4,
 "nbformat_minor": 5
}
